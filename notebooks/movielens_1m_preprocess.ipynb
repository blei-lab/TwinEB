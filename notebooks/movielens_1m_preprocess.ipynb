{
 "cells": [
  {
   "attachments": {},
   "cell_type": "markdown",
   "metadata": {},
   "source": [
    "# Analysis of the movielens dataset 1m\n"
   ]
  },
  {
   "cell_type": "code",
   "execution_count": null,
   "metadata": {},
   "outputs": [],
   "source": [
    "# Download the data from: https://grouplens.org/datasets/movielens/1m/"
   ]
  },
  {
   "cell_type": "code",
   "execution_count": null,
   "metadata": {},
   "outputs": [],
   "source": [
    "import pandas as pd\n",
    "import numpy as np\n",
    "import datatable as dt\n",
    "import anndata\n",
    "import scipy.sparse as sp"
   ]
  },
  {
   "cell_type": "code",
   "execution_count": null,
   "metadata": {},
   "outputs": [],
   "source": [
    "# checks that the user ids and movie ids are contiguous\n",
    "# if they are not, we need to reindex them\n",
    "def check_contiguous(df):\n",
    "    \"\"\"\n",
    "    Check that all unique values in the first two columns are contiguous.\n",
    "    \"\"\"\n",
    "    # get the unique users and movies\n",
    "    users = np.sort(np.unique(df[:, 0].to_numpy()[:, 0]))\n",
    "    movies = np.sort(np.unique(df[:, 1].to_numpy()[:, 0]))\n",
    "    # check if they are contiguous\n",
    "    users_contiguous = np.all(np.diff(users) == 1)\n",
    "    movies_contiguous = np.all(np.diff(movies) == 1)\n",
    "    print('Users are contiguous: ', users_contiguous)\n",
    "    print('Movies are contiguous: ', movies_contiguous)\n",
    "    # print number of users and movies\n",
    "    print('Number of users: ', len(users))\n",
    "    print('Number of movies: ', len(movies))\n",
    "    return users_contiguous, movies_contiguous\n",
    "\n",
    "\n",
    "\n",
    "def check_valid_index(df):\n",
    "    \"\"\"Indexes should be contiguous and start at 0\"\"\"\n",
    "    users_contiguous, movies_contiguous = check_contiguous(df)\n",
    "    # check if the first user is 0\n",
    "    users_starts_0 = np.min(df[:, 0].to_numpy()[:, 0]) == 0\n",
    "    movies_starts_0 = np.min(df[:, 1].to_numpy()[:, 0]) == 0\n",
    "    print('Users start at 0: ', users_starts_0)\n",
    "    print('Movies start at 0: ', movies_starts_0)\n",
    "    return users_contiguous and movies_contiguous and users_starts_0 and movies_starts_0\n",
    "\n",
    "# reindex the movies and save the mapping\n",
    "def reindex_movies(df):\n",
    "    movies = np.unique(df[:, 1].to_numpy()[:, 0])\n",
    "    print('Number of movies: ', len(movies))\n",
    "    # create a mapping from old to new ids\n",
    "    movie_map = {old_id: new_id for new_id, old_id in enumerate(movies)}\n",
    "    print('Number of movies after reindexing: ', len(movie_map))\n",
    "    # reindex the movies\n",
    "    print('Reindexing movies...')\n",
    "    # create an array to store the new index\n",
    "    new_index = np.zeros(df.shape[0], dtype=int)\n",
    "    # set values in new_index based on movie_map\n",
    "    for i, old_id in enumerate(df[:, 1].to_numpy()[:, 0]):\n",
    "        new_index[i] = movie_map[old_id]\n",
    "    print('Number of reindexed movies: ', len(np.unique(new_index)))\n",
    "    df[:, 1] = new_index\n",
    "    # switch 1st and 3rd columns\n",
    "    #df = df[:, [0, 3, 1, 2]]\n",
    "    return df, movie_map\n",
    "\n",
    "def check_movie_map(movie_map):\n",
    "    \"\"\"Checks that the values of the movie_map are sorted \"\"\"\n",
    "    assert np.all(np.diff(np.array(movie_map.values())[None, ]) == 1)\n",
    "    # sorted movie ids\n",
    "    k1 = np.array(list(movie_map.keys()))[list(np.argsort(np.unique(list(movie_map.values()))))]\n",
    "    k2 = np.array(list(movie_map.keys()))\n",
    "    assert np.all(k1 == k2)\n"
   ]
  },
  {
   "cell_type": "code",
   "execution_count": null,
   "metadata": {},
   "outputs": [],
   "source": [
    "# read the table using datatable\n",
    "# user id | item id | rating | timestamp. \n",
    "df = dt.fread('../../data/movie_lens/ml-1m/ratings.dat', sep=':')\n",
    "# drop timestamp column\n",
    "# only keep C0, C2, C4\n",
    "df = df[:, [0, 2, 4]]\n",
    "\n",
    "# start users from 0\n",
    "df[:, 0] = df[:, 0].to_numpy() - 1\n",
    "df.head()\n",
    "\n",
    "# get the number of unique users and items as a non-array value\n",
    "n_users = df[:, 0].nunique().to_numpy()[0][0]\n",
    "n_items = df[:, 1].nunique().to_numpy()[0][0]\n",
    "print(n_users, n_items)\n",
    "# 6,040 users by 3,900 movies (200 fewer movies)"
   ]
  },
  {
   "cell_type": "code",
   "execution_count": null,
   "metadata": {},
   "outputs": [],
   "source": [
    "check_valid_index(df)"
   ]
  },
  {
   "cell_type": "code",
   "execution_count": null,
   "metadata": {},
   "outputs": [],
   "source": [
    "df, movie_map = reindex_movies(df)    "
   ]
  },
  {
   "cell_type": "code",
   "execution_count": null,
   "metadata": {},
   "outputs": [],
   "source": [
    "assert check_valid_index(df), 'Indexing is not valid!'"
   ]
  },
  {
   "cell_type": "code",
   "execution_count": null,
   "metadata": {},
   "outputs": [],
   "source": [
    "np.min(df[:, 0].to_numpy()[:, 0]), np.max(df[:, 0].to_numpy()[:, 0]), np.min(df[:, 1].to_numpy()[:, 0]), np.max(df[:, 1].to_numpy()[:, 0])"
   ]
  },
  {
   "cell_type": "code",
   "execution_count": null,
   "metadata": {},
   "outputs": [],
   "source": [
    "smat = sp.csr_matrix((df[:, 2].to_numpy().flatten(), (df[:, 0].to_numpy().flatten(), df[:, 1].to_numpy().flatten())), shape=(n_users, n_items))"
   ]
  },
  {
   "cell_type": "code",
   "execution_count": null,
   "metadata": {},
   "outputs": [],
   "source": [
    "assert smat.shape[0] == n_users, 'Number of users does not match!'\n",
    "assert smat.shape[1] == n_items, 'Number of items does not match!'"
   ]
  },
  {
   "cell_type": "code",
   "execution_count": null,
   "metadata": {},
   "outputs": [],
   "source": [
    "# create an anndata object\n",
    "adata = anndata.AnnData(X=smat)\n",
    "adata.layers['counts'] = adata.X.copy()\n",
    "adata.obs_names = np.arange(n_users) + 1\n",
    "check_movie_map(movie_map)\n",
    "adata.var_names = np.array(list(movie_map.keys()))\n",
    "adata\n",
    "# randomly assign \n",
    "adata.obs['labels'] = np.random.choice(['A', 'B', 'C'], size=n_users)"
   ]
  },
  {
   "cell_type": "code",
   "execution_count": null,
   "metadata": {},
   "outputs": [],
   "source": [
    "adata.write('../../data/movie_lens/ml-1m.h5ad')"
   ]
  },
  {
   "cell_type": "code",
   "execution_count": null,
   "metadata": {},
   "outputs": [],
   "source": [
    "# load and add the movie metadata"
   ]
  },
  {
   "cell_type": "code",
   "execution_count": null,
   "metadata": {},
   "outputs": [],
   "source": [
    "adata = anndata.read_h5ad('../../data/movie_lens/ml-1m.h5ad')\n",
    "# read the movies\n",
    "mdf = dt.fread('path/to/data/movie_lens/ml-1m/movies.dat', sep='[')\n",
    "mdf.head()"
   ]
  },
  {
   "cell_type": "code",
   "execution_count": null,
   "metadata": {},
   "outputs": [],
   "source": [
    "# Create a dictionary from the first two columns\n",
    "some_dict = {'movie_id': mdf['C0'].to_numpy().flatten(), 'movie_name': mdf['C1'].to_numpy().flatten()}\n",
    "# Create a pandas data.frame from the dictionary\n",
    "mdf_pd = pd.DataFrame(some_dict)\n",
    "mdf_pd.set_index('movie_id', inplace=True)\n",
    "mdf_pd"
   ]
  },
  {
   "cell_type": "code",
   "execution_count": null,
   "metadata": {},
   "outputs": [],
   "source": [
    "# convert to string\n",
    "mdf_pd.index = mdf_pd.index.astype(str)\n",
    "adata.var.join(mdf_pd)\n",
    "# add mdata to adata.var\n",
    "adata.var = adata.var.join(mdf_pd)\n",
    "adata.write('../../data/movie_lens/ml-1m.h5ad')"
   ]
  },
  {
   "cell_type": "code",
   "execution_count": null,
   "metadata": {},
   "outputs": [],
   "source": [
    "# create the train/validation/split \n",
    "\n",
    "#!./driver.py setup_data -i ../data/movie_lens/ml-1m.h5ad -o ../data/movie_lens/processed -p .2 -f True -l 1"
   ]
  }
 ],
 "metadata": {
  "kernelspec": {
   "display_name": "gluere",
   "language": "python",
   "name": "python3"
  },
  "language_info": {
   "codemirror_mode": {
    "name": "ipython",
    "version": 3
   },
   "file_extension": ".py",
   "mimetype": "text/x-python",
   "name": "python",
   "nbconvert_exporter": "python",
   "pygments_lexer": "ipython3",
   "version": "3.9.13"
  },
  "orig_nbformat": 4
 },
 "nbformat": 4,
 "nbformat_minor": 2
}
