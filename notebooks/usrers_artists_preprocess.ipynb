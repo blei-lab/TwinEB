{
 "cells": [
  {
   "cell_type": "code",
   "execution_count": 1,
   "metadata": {},
   "outputs": [],
   "source": [
    "# Register the parent directory\n",
    "import os\n",
    "import sys\n",
    "module_path = os.path.abspath(os.path.join('..'))\n",
    "if module_path not in sys.path:\n",
    "    sys.path.append(module_path)\n",
    "\n",
    "import anndata\n",
    "import numpy as np\n",
    "import pandas as pd\n",
    "import scipy.sparse as sparse\n"
   ]
  },
  {
   "cell_type": "code",
   "execution_count": null,
   "metadata": {},
   "outputs": [],
   "source": [
    "\n",
    "dat = pd.read_csv('path/to/user_artists.dat', sep='\\t')\n",
    "# convert from tall to wide (userID  artistID  weight -> userID by artistId matrix)\n",
    "dat = dat.pivot(index='userID', columns='artistID', values='weight')\n",
    "# fill na with 0\n",
    "dat = dat.fillna(0)\n",
    "\n",
    "user_ids = dat.index.values\n",
    "artist_ids = dat.columns.values\n",
    "# create an anndata object\n",
    "adata = anndata.AnnData(X=dat.values, obs=pd.DataFrame(index=user_ids), var=pd.DataFrame(index=artist_ids))\n",
    "# convert X to a sparse matrix\n",
    "adata.X = sparse.csr_matrix(adata.X)\n",
    "adata.layers['counts'] = adata.X.copy()\n",
    "adata.obs['labels'] = np.random.choice(['A', 'B', 'C'], size=adata.shape[0])\n",
    "# write \n",
    "out_dir = 'path/to/data/users_artists/'\n",
    "# create out_dir\n",
    "os.makedirs(out_dir, exist_ok=True, )\n",
    "adata.write(os.path.join(out_dir, 'user_artists.h5ad'))"
   ]
  }
 ],
 "metadata": {
  "kernelspec": {
   "display_name": "Python 3.9.13 ('gluere')",
   "language": "python",
   "name": "python3"
  },
  "language_info": {
   "codemirror_mode": {
    "name": "ipython",
    "version": 3
   },
   "file_extension": ".py",
   "mimetype": "text/x-python",
   "name": "python",
   "nbconvert_exporter": "python",
   "pygments_lexer": "ipython3",
   "version": "3.9.13"
  },
  "orig_nbformat": 4,
  "vscode": {
   "interpreter": {
    "hash": "c995ef188f1ffe598f3620a780dc2f1d2deddf2004bae9b09f2a0d8f831da693"
   }
  }
 },
 "nbformat": 4,
 "nbformat_minor": 2
}
