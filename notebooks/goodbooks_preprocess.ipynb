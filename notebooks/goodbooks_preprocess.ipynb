{
 "cells": [
  {
   "cell_type": "markdown",
   "metadata": {},
   "source": [
    "# Prepare the good-books dataset\n",
    "\n",
    "Ratings of books by users"
   ]
  },
  {
   "cell_type": "code",
   "execution_count": null,
   "metadata": {},
   "outputs": [],
   "source": [
    "# Register the parent directory\n",
    "import os\n",
    "import sys\n",
    "module_path = os.path.abspath(os.path.join('..'))\n",
    "if module_path not in sys.path:\n",
    "    sys.path.append(module_path)\n",
    "\n",
    "import anndata\n",
    "import scanpy as sc\n",
    "import numpy as np\n",
    "import pandas as pd\n",
    "import scipy.sparse as sparse"
   ]
  },
  {
   "cell_type": "code",
   "execution_count": null,
   "metadata": {},
   "outputs": [],
   "source": [
    "# On CETO\n",
    "save_dir = 'path/to/data'\n",
    "data_dir = 'path/to/goodbooks-10k/'\n",
    "ratings_path = os.path.join(data_dir, 'ratings.csv')\n",
    "books_path = os.path.join(data_dir, 'books.csv')\n",
    "\n",
    "\n",
    "dat = pd.read_csv(ratings_path)\n",
    "dat.rating.value_counts()\n",
    "dat"
   ]
  },
  {
   "cell_type": "code",
   "execution_count": null,
   "metadata": {},
   "outputs": [],
   "source": [
    "# convert from tall to wide (user_id  book_id  rating -> user_id by book_id matrix)\n",
    "dat = dat.pivot(index='user_id', columns='book_id', values='rating')\n",
    "# fill na with 0\n",
    "dat = dat.fillna(0)\n",
    "user_ids = dat.index.values\n",
    "book_ids = dat.columns.values"
   ]
  },
  {
   "cell_type": "code",
   "execution_count": null,
   "metadata": {},
   "outputs": [],
   "source": [
    "# read the anndata object\n",
    "# change original title with title\n",
    "books = pd.read_csv(books_path)\n",
    "books['book_id'] = books['book_id'] - 1 \n",
    "cols = ['book_id', 'title', 'authors', 'original_publication_year']\n",
    "books = books[cols]\n",
    "\n",
    "books = books.set_index('book_id')[['title']]\n",
    "\n",
    "out_dir = os.path.join(save_dir, 'goodreads')\n",
    "adata = sc.read(os.path.join(out_dir, 'goodreads.h5ad'))\n",
    "\n",
    "\n",
    "adata.var['book_id'] = adata.var.index.values.astype(int)\n",
    "adata.var.reset_index(drop=True, inplace=True)\n",
    "adata.var = adata.var.join(books, on='book_id')\n",
    "# assert there is no nan title\n",
    "assert adata.var.title.isna().sum() == 0, 'There are nan titles'\n",
    "adata.write(os.path.join(out_dir, 'goodreads.h5ad'))"
   ]
  },
  {
   "cell_type": "code",
   "execution_count": null,
   "metadata": {},
   "outputs": [],
   "source": [
    "# load the book names and add them as var_names\n",
    "books = pd.read_csv(books_path)\n",
    "# find names that are NAN\n",
    "qq = books[books.original_title.isna()]\n",
    "qq = books[books.title.isna()]\n",
    "# find title that is nan\n",
    "books[books.original_title == 'nan']\n",
    "# tell me these...\n",
    "\n",
    "cols = ['book_id', 'title', 'authors', 'original_publication_year']\n",
    "books = books[cols]\n",
    "books\n",
    "# ensure book_ids are in books\n",
    "assert np.all(np.isin(book_ids, books.book_id.values))\n",
    "\n",
    "# now make them both start from zero\n",
    "books.book_id = books.book_id - 1\n",
    "book_ids = book_ids - 1\n",
    "\n",
    "# assert that they are sorted the same way\n",
    "assert np.all(books.book_id.values == book_ids)\n"
   ]
  },
  {
   "cell_type": "code",
   "execution_count": null,
   "metadata": {},
   "outputs": [],
   "source": [
    "# create an anndata object\n",
    "X = sparse.csr_matrix(dat.values)\n",
    "adata = anndata.AnnData(X=X, obs=pd.DataFrame(index=user_ids), var=pd.DataFrame(index=book_ids))\n",
    "adata.layers['counts'] = adata.X.copy()\n",
    "adata.obs['labels'] = np.random.choice(['A', 'B', 'C'], size=adata.shape[0])\n",
    "# convert to int\n",
    "adata.var['book_id'] = adata.var.index.values.astype(int)\n",
    "# add book metadata\n",
    "adata.var = adata.var.join(books.set_index('book_id'), on='book_id')\n",
    "# set index to book_id\n",
    "adata.var.set_index('book_id', inplace=True, drop=True)"
   ]
  },
  {
   "cell_type": "code",
   "execution_count": null,
   "metadata": {},
   "outputs": [],
   "source": [
    "# write \n",
    "out_dir = os.path.join(save_dir, 'goodreads')\n",
    "os.makedirs(out_dir, exist_ok=True, )\n",
    "adata.write(os.path.join(out_dir, 'goodreads.h5ad'))"
   ]
  }
 ],
 "metadata": {
  "kernelspec": {
   "display_name": "Python 3.9.13 ('gluere')",
   "language": "python",
   "name": "python3"
  },
  "language_info": {
   "codemirror_mode": {
    "name": "ipython",
    "version": 3
   },
   "file_extension": ".py",
   "mimetype": "text/x-python",
   "name": "python",
   "nbconvert_exporter": "python",
   "pygments_lexer": "ipython3",
   "version": "3.9.13"
  },
  "orig_nbformat": 4,
  "vscode": {
   "interpreter": {
    "hash": "c995ef188f1ffe598f3620a780dc2f1d2deddf2004bae9b09f2a0d8f831da693"
   }
  }
 },
 "nbformat": 4,
 "nbformat_minor": 2
}
